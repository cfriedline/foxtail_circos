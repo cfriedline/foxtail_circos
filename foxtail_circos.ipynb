{
 "metadata": {
  "name": "",
  "signature": "sha256:c3cc4d702e81761ad25480217c19811da0f8380a943260407cc0cd6edc8670ac"
 },
 "nbformat": 3,
 "nbformat_minor": 0,
 "worksheets": [
  {
   "cells": [
    {
     "cell_type": "code",
     "collapsed": false,
     "input": [
      "import pandas as pd\n",
      "from IPython.display import Image\n",
      "import numpy as np"
     ],
     "language": "python",
     "metadata": {},
     "outputs": [],
     "prompt_number": ""
    },
    {
     "cell_type": "code",
     "collapsed": false,
     "input": [
      "data = pd.read_excel(\"/Users/chris/Downloads/final_maps_cleaned.xlsx\", \n",
      "                     sheetname=\"final_maps_cleaned.txt\",\n",
      "                     index_col=1)"
     ],
     "language": "python",
     "metadata": {},
     "outputs": [],
     "prompt_number": ""
    },
    {
     "cell_type": "code",
     "collapsed": false,
     "input": [
      "colors = [\"red\", \"blue\", \"green\", \"yellow\"]"
     ],
     "language": "python",
     "metadata": {},
     "outputs": [],
     "prompt_number": ""
    },
    {
     "cell_type": "code",
     "collapsed": false,
     "input": [
      "def write_karyotype():\n",
      "    with open(\"karyotype.txt\", \"w\") as o:\n",
      "        for color in colors:\n",
      "            col_data = data[[x + color for x in [\"LG_\", \"LOC_\"]]]\n",
      "            groups = col_data[\"LG_%s\" % color].drop_duplicates().dropna()\n",
      "\n",
      "            for lg in groups:    \n",
      "                o.write(\"chr - %s_LG%d LG%d %d %d %s\\n\" % \n",
      "                        (color.upper()[0], lg, lg, \n",
      "                         np.round(min(col_data[col_data['LG_%s' % color]==lg]['LOC_%s' % color])),\n",
      "                         np.round(max(col_data[col_data['LG_%s' % color]==lg]['LOC_%s' % color])),\n",
      "                         color))\n",
      "write_karyotype()"
     ],
     "language": "python",
     "metadata": {},
     "outputs": [],
     "prompt_number": ""
    },
    {
     "cell_type": "code",
     "collapsed": false,
     "input": [
      "links = set()\n",
      "for ix in data.index:\n",
      "    line = []\n",
      "    for i in xrange(len(colors)):\n",
      "        c = colors[i]\n",
      "        if not np.isnan(data.loc[ix, 'LOC_%s' % c]):\n",
      "            for j in xrange(len(colors)):\n",
      "                d = colors[j]\n",
      "                if not np.isnan(data.loc[ix, 'LOC_%s' % d]) and not i == j:\n",
      "                   links.add(\"%s_LG%d %d %d %s_LG%d %d %d color=%s\\n\" % (c.upper()[0],\n",
      "                   data.loc[ix, 'LG_%s' % c], \n",
      "                   int(data.loc[ix, 'LOC_%s' % c]),\n",
      "                   int(data.loc[ix, 'LOC_%s' % c]),\n",
      "                   d.upper()[0],\n",
      "                   data.loc[ix, 'LG_%s' % d], \n",
      "                   int(data.loc[ix, 'LOC_%s' % d]),\n",
      "                   int(data.loc[ix, 'LOC_%s' % d]),\n",
      "                   c))"
     ],
     "language": "python",
     "metadata": {},
     "outputs": [],
     "prompt_number": ""
    },
    {
     "cell_type": "code",
     "collapsed": false,
     "input": [
      "with open(\"links.txt\", \"w\") as o:\n",
      "    for elem in sorted(list(links)):\n",
      "        o.write(\"%s\" % elem)"
     ],
     "language": "python",
     "metadata": {},
     "outputs": [],
     "prompt_number": ""
    },
    {
     "cell_type": "markdown",
     "metadata": {},
     "source": [
      "##Create individual karyotype files for each linkage group"
     ]
    },
    {
     "cell_type": "code",
     "collapsed": false,
     "input": [
      "groups = sorted(list(set(data['LG_con'])))\n",
      "for ix in xrange(len(groups)):\n",
      "    with open(\"karyotype_lg%d.txt\" % groups[ix], \"w\") as o:\n",
      "        for line in open(\"karyotype.txt\"):\n",
      "            line = line.split()\n",
      "            if line[3] == \"LG%d\" % groups[ix]:\n",
      "                o.write(\"%s\\n\" % ' '.join(line))"
     ],
     "language": "python",
     "metadata": {},
     "outputs": [],
     "prompt_number": ""
    },
    {
     "cell_type": "markdown",
     "metadata": {},
     "source": [
      "##Create individual links files for each karyotype file"
     ]
    },
    {
     "cell_type": "code",
     "collapsed": false,
     "input": [
      "for ix in xrange(len(groups)):\n",
      "    with open(\"links_lg%d.txt\" % groups[ix], \"w\") as o:\n",
      "        for line in open(\"links.txt\"):\n",
      "            line = line.split()\n",
      "            if line[0].split(\"_\")[1] == \"LG%d\" % groups[ix]:\n",
      "                o.write(\"%s\\n\" % ' '.join(line))"
     ],
     "language": "python",
     "metadata": {},
     "outputs": [],
     "prompt_number": ""
    },
    {
     "cell_type": "markdown",
     "metadata": {},
     "source": [
      "##Create circos for each lg one for all together"
     ]
    },
    {
     "cell_type": "code",
     "collapsed": false,
     "input": [
      "for ix in xrange(len(groups)):\n",
      "    g = int(groups[ix])\n",
      "    k = \"karyotype_lg%d.txt\" % g\n",
      "    l = \"links_rev_lg%d.txt\" % g\n",
      "    o = \"circos_lg%d\" % g\n",
      "    print k, l, o\n",
      "    !circos -param karyotype={k} -param links/link/file={l} -param outputfile={o} -param links/link/perturb=no"
     ],
     "language": "python",
     "metadata": {},
     "outputs": [],
     "prompt_number": ""
    },
    {
     "cell_type": "code",
     "collapsed": false,
     "input": [
      "params=['links/link/perturb=no',\n",
      "        'links/link/file=links_rev.txt']\n",
      "!circos {' '.join([\"-param %s\" % x for x in params])}"
     ],
     "language": "python",
     "metadata": {},
     "outputs": [],
     "prompt_number": ""
    },
    {
     "cell_type": "markdown",
     "metadata": {},
     "source": [
      "##Write consensus karyotype"
     ]
    },
    {
     "cell_type": "code",
     "collapsed": false,
     "input": [
      "lg_con_groups = data.groupby('LG_con')"
     ],
     "language": "python",
     "metadata": {},
     "outputs": [],
     "prompt_number": ""
    },
    {
     "cell_type": "code",
     "collapsed": false,
     "input": [
      "with open(\"karyotype_con.txt\", \"w\") as o:\n",
      "    for g, d in lg_con_groups:\n",
      "        minval = min(d['LOC_con'])*100\n",
      "        maxval = max(d['LOC_con'])*100\n",
      "        print g, minval, maxval\n",
      "        o.write(\"chr - %s %s %d %d black\\n\" % (\"LG%d\" % g, \n",
      "                                                \"LG%d\" % g, \n",
      "                                                minval, \n",
      "                                                maxval))"
     ],
     "language": "python",
     "metadata": {},
     "outputs": [],
     "prompt_number": ""
    },
    {
     "cell_type": "markdown",
     "metadata": {},
     "source": [
      "##Write data for consensus circos"
     ]
    },
    {
     "cell_type": "markdown",
     "metadata": {},
     "source": [
      "###This writes the histogram"
     ]
    },
    {
     "cell_type": "code",
     "collapsed": false,
     "input": [
      "con_lg_pos_counts = {}\n",
      "with open(\"con_hist_pos.txt\", \"w\") as p:\n",
      "    with open(\"con_hist.txt\", \"w\") as o:\n",
      "        for lg, lg_data in data.groupby('LG_con'):\n",
      "            con_lg_pos_counts[lg] = {}\n",
      "            loc_group = lg_data.groupby('LOC_con')\n",
      "            agg = loc_group['LOC_con'].aggregate(len)\n",
      "            maxval = np.max(agg)\n",
      "            for ix in agg.index:\n",
      "                pos = ix*100\n",
      "                col = \"black\"\n",
      "                annotations=lg_data[lg_data['LOC_con']==ix]['hits'].dropna()\n",
      "#                 print lg, ix, len(annotations), agg.loc[ix]\n",
      "                perc_snp_anno = float(len(annotations))/agg.loc[ix]\n",
      "                if perc_snp_anno >= 0.5:\n",
      "                    col=\"green\"\n",
      "                elif perc_snp_anno >= 0.25:\n",
      "                    col=\"red\"\n",
      "                if not pos in con_lg_sums:\n",
      "                    con_lg_pos_counts[lg][pos] = agg.loc[ix]\n",
      "                p.write(\"LG%d %d %d %f color=%s\\n\" % (lg, pos, pos, 1, col))\n",
      "                o.write(\"LG%d %d %d %f\\n\" % (lg, pos, pos, np.float(agg.loc[ix])/maxval))"
     ],
     "language": "python",
     "metadata": {},
     "outputs": [],
     "prompt_number": ""
    },
    {
     "cell_type": "code",
     "collapsed": false,
     "input": [
      "for color in colors:\n",
      "    with open(\"con_hist_%s.txt\" % color, \"w\") as o:\n",
      "        for lg, lg_data in data[data['LG_%s' % color]==data['LG_con']].groupby('LG_con'):\n",
      "            loc_group = lg_data.groupby(\"LOC_con\")\n",
      "            agg = loc_group['LOC_con'].aggregate(len)\n",
      "            for ix in agg.index:\n",
      "                pos = ix*100\n",
      "                o.write(\"LG%d %d %d %f\\n\" % \n",
      "                        (lg, ix*100, ix*100, \n",
      "                         np.float(agg.loc[ix])/con_lg_pos_counts[lg][pos]))"
     ],
     "language": "python",
     "metadata": {},
     "outputs": [],
     "prompt_number": ""
    },
    {
     "cell_type": "code",
     "collapsed": false,
     "input": [
      "!circos -conf circos_con.conf"
     ],
     "language": "python",
     "metadata": {},
     "outputs": [],
     "prompt_number": ""
    },
    {
     "cell_type": "code",
     "collapsed": false,
     "input": [],
     "language": "python",
     "metadata": {},
     "outputs": [],
     "prompt_number": ""
    }
   ],
   "metadata": {}
  }
 ]
}