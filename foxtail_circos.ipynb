{
 "metadata": {
  "name": "",
  "signature": "sha256:ca6865883252509b2505c3772a93524f6eb4b3f626e8cc8ca2756095596ed239"
 },
 "nbformat": 3,
 "nbformat_minor": 0,
 "worksheets": [
  {
   "cells": [
    {
     "cell_type": "code",
     "collapsed": false,
     "input": [
      "import pandas as pd\n",
      "from IPython.display import Image\n",
      "import numpy as np"
     ],
     "language": "python",
     "metadata": {},
     "outputs": [],
     "prompt_number": ""
    },
    {
     "cell_type": "code",
     "collapsed": false,
     "input": [
      "data = pd.read_excel(\"/Users/chris/Downloads/final_maps_cleaned.xlsx\", \n",
      "                     sheetname=\"final_maps_cleaned.txt\",\n",
      "                     index_col=1)"
     ],
     "language": "python",
     "metadata": {},
     "outputs": [],
     "prompt_number": ""
    },
    {
     "cell_type": "code",
     "collapsed": false,
     "input": [
      "colors = [\"red\", \"blue\", \"green\", \"yellow\"]"
     ],
     "language": "python",
     "metadata": {},
     "outputs": [],
     "prompt_number": ""
    },
    {
     "cell_type": "code",
     "collapsed": false,
     "input": [
      "def write_karyotype():\n",
      "    with open(\"karyotype.txt\", \"w\") as o:\n",
      "        for color in colors:\n",
      "            col_data = data[[x + color for x in [\"LG_\", \"LOC_\"]]]\n",
      "            groups = col_data[\"LG_%s\" % color].drop_duplicates().dropna()\n",
      "\n",
      "            for lg in groups:    \n",
      "                o.write(\"chr - %s_LG%d LG%d %d %d %s\\n\" % \n",
      "                        (color.upper()[0], lg, lg, \n",
      "                         np.round(min(col_data[col_data['LG_%s' % color]==lg]['LOC_%s' % color])),\n",
      "                         np.round(max(col_data[col_data['LG_%s' % color]==lg]['LOC_%s' % color])),\n",
      "                         color))\n",
      "write_karyotype()"
     ],
     "language": "python",
     "metadata": {},
     "outputs": [],
     "prompt_number": ""
    },
    {
     "cell_type": "code",
     "collapsed": false,
     "input": [
      "links = set()\n",
      "for ix in data.index:\n",
      "    line = []\n",
      "    for i in xrange(len(colors)):\n",
      "        c = colors[i]\n",
      "        if not np.isnan(data.loc[ix, 'LOC_%s' % c]):\n",
      "            for j in xrange(len(colors)):\n",
      "                d = colors[j]\n",
      "                if not np.isnan(data.loc[ix, 'LOC_%s' % d]) and not i == j:\n",
      "                   links.add(\"%s_LG%d %d %d %s_LG%d %d %d color=%s\\n\" % (c.upper()[0],\n",
      "                   data.loc[ix, 'LG_%s' % c], \n",
      "                   int(data.loc[ix, 'LOC_%s' % c]),\n",
      "                   int(data.loc[ix, 'LOC_%s' % c]),\n",
      "                   d.upper()[0],\n",
      "                   data.loc[ix, 'LG_%s' % d], \n",
      "                   int(data.loc[ix, 'LOC_%s' % d]),\n",
      "                   int(data.loc[ix, 'LOC_%s' % d]),\n",
      "                   c))"
     ],
     "language": "python",
     "metadata": {},
     "outputs": [],
     "prompt_number": ""
    },
    {
     "cell_type": "code",
     "collapsed": false,
     "input": [
      "with open(\"links.txt\", \"w\") as o:\n",
      "    for elem in sorted(list(links)):\n",
      "        o.write(\"%s\" % elem)"
     ],
     "language": "python",
     "metadata": {},
     "outputs": [],
     "prompt_number": ""
    },
    {
     "cell_type": "code",
     "collapsed": false,
     "input": [
      "!circos"
     ],
     "language": "python",
     "metadata": {},
     "outputs": [],
     "prompt_number": ""
    },
    {
     "cell_type": "markdown",
     "metadata": {},
     "source": [
      "##Create individual karyotype files for each linkage group"
     ]
    },
    {
     "cell_type": "code",
     "collapsed": false,
     "input": [
      "for ix in xrange(len(groups)):\n",
      "    with open(\"karyotype_lg%d.txt\" % groups[ix], \"w\") as o:\n",
      "        for line in open(\"karyotype.txt\"):\n",
      "            line = line.split()\n",
      "            if line[3] == \"LG%d\" % groups[ix]:\n",
      "                o.write(\"%s\\n\" % ' '.join(line))"
     ],
     "language": "python",
     "metadata": {},
     "outputs": [],
     "prompt_number": ""
    },
    {
     "cell_type": "markdown",
     "metadata": {},
     "source": [
      "##Create individual links files for each karyotype file"
     ]
    },
    {
     "cell_type": "code",
     "collapsed": false,
     "input": [
      "for ix in xrange(len(groups)):\n",
      "    with open(\"links_lg%d.txt\" % groups[ix], \"w\") as o:\n",
      "        for line in open(\"links.txt\"):\n",
      "            line = line.split()\n",
      "            if line[0].split(\"_\")[1] == \"LG%d\" % groups[ix]:\n",
      "                o.write(\"%s\\n\" % ' '.join(line))"
     ],
     "language": "python",
     "metadata": {},
     "outputs": [],
     "prompt_number": ""
    }
   ],
   "metadata": {}
  }
 ]
}